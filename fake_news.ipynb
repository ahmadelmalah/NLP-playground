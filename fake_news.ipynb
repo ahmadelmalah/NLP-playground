{
 "cells": [
  {
   "cell_type": "code",
   "execution_count": 2,
   "id": "d7ea74b3",
   "metadata": {},
   "outputs": [],
   "source": [
    "import nltk\n",
    "from nltk.corpus import brown"
   ]
  },
  {
   "cell_type": "code",
   "execution_count": 4,
   "id": "1f2863ac",
   "metadata": {},
   "outputs": [],
   "source": [
    "s = ['The', 'cat', 'sat', 'on', 'the', 'mat', '.']"
   ]
  },
  {
   "cell_type": "code",
   "execution_count": 6,
   "id": "b9cd78a7",
   "metadata": {},
   "outputs": [
    {
     "data": {
      "text/plain": [
       "[('The', 'cat'),\n",
       " ('cat', 'sat'),\n",
       " ('sat', 'on'),\n",
       " ('on', 'the'),\n",
       " ('the', 'mat'),\n",
       " ('mat', '.')]"
      ]
     },
     "execution_count": 6,
     "metadata": {},
     "output_type": "execute_result"
    }
   ],
   "source": [
    "list(nltk.bigrams(s))"
   ]
  },
  {
   "cell_type": "code",
   "execution_count": 4,
   "id": "3bf1d8dc",
   "metadata": {},
   "outputs": [],
   "source": [
    "text = brown.words(categories='news')\n",
    "bigrams = nltk.bigrams(text)\n",
    "cfd = nltk.ConditionalFreqDist(bigrams)"
   ]
  },
  {
   "cell_type": "code",
   "execution_count": 5,
   "id": "6a355333",
   "metadata": {},
   "outputs": [],
   "source": [
    "def generate_text(cfdist, word, num=50):\n",
    "    for i in range(num):\n",
    "        print(word, end=' ')\n",
    "        word = cfdist[word].max()  # Get the most common word following 'word'"
   ]
  },
  {
   "cell_type": "code",
   "execution_count": 6,
   "id": "7ccdd479",
   "metadata": {},
   "outputs": [
    {
     "data": {
      "text/plain": [
       "FreqDist({'York': 52, 'Orleans': 11, 'Jersey': 7, 'Mexico': 3, 'Eastwick': 2, 'England': 2, \"Jersey's\": 1, 'point': 1, 'Testament': 1, 'York-Pennsylvania': 1, ...})"
      ]
     },
     "execution_count": 6,
     "metadata": {},
     "output_type": "execute_result"
    }
   ],
   "source": [
    "cfd.get('New')"
   ]
  },
  {
   "cell_type": "code",
   "execution_count": 8,
   "id": "15ad111a",
   "metadata": {},
   "outputs": [
    {
     "name": "stdout",
     "output_type": "stream",
     "text": [
      "New York City , and the first time . The President Kennedy , and the first time . The President Kennedy , and the first time . The President Kennedy , and the first time . The President Kennedy , and the first time . The President Kennedy , and "
     ]
    }
   ],
   "source": [
    "generate_text(cfd, 'New')"
   ]
  },
  {
   "cell_type": "code",
   "execution_count": null,
   "id": "235e531c",
   "metadata": {},
   "outputs": [],
   "source": []
  }
 ],
 "metadata": {
  "kernelspec": {
   "display_name": "myenv",
   "language": "python",
   "name": "python3"
  },
  "language_info": {
   "codemirror_mode": {
    "name": "ipython",
    "version": 3
   },
   "file_extension": ".py",
   "mimetype": "text/x-python",
   "name": "python",
   "nbconvert_exporter": "python",
   "pygments_lexer": "ipython3",
   "version": "3.12.7"
  }
 },
 "nbformat": 4,
 "nbformat_minor": 5
}

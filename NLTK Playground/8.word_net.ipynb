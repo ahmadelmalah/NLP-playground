{
 "cells": [
  {
   "cell_type": "code",
   "execution_count": 2,
   "id": "061275a6",
   "metadata": {},
   "outputs": [
    {
     "data": {
      "text/plain": [
       "[Synset('car.n.01')]"
      ]
     },
     "execution_count": 2,
     "metadata": {},
     "output_type": "execute_result"
    }
   ],
   "source": [
    "from nltk.corpus import wordnet as wn\n",
    "wn.synsets('motorcar')"
   ]
  },
  {
   "cell_type": "code",
   "execution_count": 3,
   "id": "a2022fba",
   "metadata": {},
   "outputs": [
    {
     "data": {
      "text/plain": [
       "[Synset('enchantment.n.02'),\n",
       " Synset('go.n.01'),\n",
       " Synset('while.n.01'),\n",
       " Synset('spell.n.04'),\n",
       " Synset('spell.v.01'),\n",
       " Synset('spell.v.02'),\n",
       " Synset('spell.v.03'),\n",
       " Synset('spell.v.04'),\n",
       " Synset('spell.v.05'),\n",
       " Synset('spell.v.06')]"
      ]
     },
     "execution_count": 3,
     "metadata": {},
     "output_type": "execute_result"
    }
   ],
   "source": [
    "wn.synsets('spell')"
   ]
  },
  {
   "cell_type": "code",
   "execution_count": 5,
   "id": "4989b3a7",
   "metadata": {},
   "outputs": [
    {
     "data": {
      "text/plain": [
       "'a member of the genus Canis (probably descended from the common wolf) that has been domesticated by man since prehistoric times; occurs in many breeds'"
      ]
     },
     "execution_count": 5,
     "metadata": {},
     "output_type": "execute_result"
    }
   ],
   "source": [
    "synsets = wn.synsets('dog')\n",
    "dog = wn.synset('dog.n.01')\n",
    "dog.definition()"
   ]
  },
  {
   "cell_type": "code",
   "execution_count": 11,
   "id": "71cf2fcf",
   "metadata": {},
   "outputs": [
    {
     "data": {
      "text/plain": [
       "[Lemma('car.n.01.car'),\n",
       " Lemma('car.n.01.auto'),\n",
       " Lemma('car.n.01.automobile'),\n",
       " Lemma('car.n.01.machine'),\n",
       " Lemma('car.n.01.motorcar')]"
      ]
     },
     "execution_count": 11,
     "metadata": {},
     "output_type": "execute_result"
    }
   ],
   "source": [
    "wn.synsets('car')[0].lemmas()"
   ]
  },
  {
   "cell_type": "code",
   "execution_count": null,
   "id": "a070b755",
   "metadata": {},
   "outputs": [],
   "source": []
  }
 ],
 "metadata": {
  "kernelspec": {
   "display_name": "myenv",
   "language": "python",
   "name": "python3"
  },
  "language_info": {
   "codemirror_mode": {
    "name": "ipython",
    "version": 3
   },
   "file_extension": ".py",
   "mimetype": "text/x-python",
   "name": "python",
   "nbconvert_exporter": "python",
   "pygments_lexer": "ipython3",
   "version": "3.12.7"
  }
 },
 "nbformat": 4,
 "nbformat_minor": 5
}

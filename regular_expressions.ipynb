{
 "cells": [
  {
   "cell_type": "code",
   "execution_count": 14,
   "id": "04578762",
   "metadata": {},
   "outputs": [],
   "source": [
    "import re"
   ]
  },
  {
   "cell_type": "code",
   "execution_count": 15,
   "id": "daa17d9e",
   "metadata": {},
   "outputs": [
    {
     "name": "stdout",
     "output_type": "stream",
     "text": [
      "\n",
      "This is a long text contains x word more than once, The point is to find x \"x\" word.\n",
      "The text also contains some digits like 123 and 456.\n",
      "\n"
     ]
    }
   ],
   "source": [
    "# disjunction\n",
    "text = \"\"\"\n",
    "This is a long text contains the word more than once, The point is to find the \"the\" word.\n",
    "The text also contains some digits like 123 and 456.\n",
    "\"\"\"\n",
    "pattern = r'the'\n",
    "print(re.sub(pattern, 'x', text))"
   ]
  },
  {
   "cell_type": "code",
   "execution_count": 16,
   "id": "cf58385b",
   "metadata": {},
   "outputs": [
    {
     "name": "stdout",
     "output_type": "stream",
     "text": [
      "\n",
      "This is a long text contains x word more than once, x point is to find x \"x\" word.\n",
      "x text also contains some digits like 123 and 456.\n",
      "\n"
     ]
    }
   ],
   "source": [
    "# Also match the uppercase\n",
    "pattern = r'[Tt]he'\n",
    "print(re.sub(pattern, 'x', text))"
   ]
  },
  {
   "cell_type": "code",
   "execution_count": 18,
   "id": "304935e6",
   "metadata": {},
   "outputs": [
    {
     "name": "stdout",
     "output_type": "stream",
     "text": [
      "\n",
      "This is a long text contains the word more than once, The point is to find the \"the\" word.\n",
      "The text also contains some digits like xxx and xxx.\n",
      "\n"
     ]
    }
   ],
   "source": [
    "# Match on digits\n",
    "pattern = r'\\d'\n",
    "print(re.sub(pattern, 'x', text))"
   ]
  },
  {
   "cell_type": "code",
   "execution_count": null,
   "id": "f5ad7661",
   "metadata": {},
   "outputs": [
    {
     "name": "stdout",
     "output_type": "stream",
     "text": [
      "\n",
      "This is a long text contains the word more than once, The point is to find the \"the\" word.\n",
      "The text also contains some digits like xxx and xxx.\n",
      "\n"
     ]
    }
   ],
   "source": [
    "# Match on digits other way\n",
    "pattern = r'[0-9]'\n",
    "print(re.sub(pattern, 'x', text))\n"
   ]
  },
  {
   "cell_type": "code",
   "execution_count": 20,
   "id": "a5ada5b4",
   "metadata": {},
   "outputs": [
    {
     "name": "stdout",
     "output_type": "stream",
     "text": [
      "\n",
      "This is a long text contains the word more than once, The point is to find the \"the\" word.\n",
      "The text also contains some digits like x and x.\n",
      "\n"
     ]
    }
   ],
   "source": [
    "# Replace the entire number with x\n",
    "pattern = r'\\d+'\n",
    "print(re.sub(pattern, 'x', text))"
   ]
  },
  {
   "cell_type": "code",
   "execution_count": 21,
   "id": "4edcbc3e",
   "metadata": {},
   "outputs": [
    {
     "name": "stdout",
     "output_type": "stream",
     "text": [
      "\n",
      "This is a long text contains the word more than once, The point is to find the \"the\" word.\n",
      "The text also contains some digits like x and x.\n",
      "\n"
     ]
    }
   ],
   "source": [
    "# The other way\n",
    "pattern = r'[0-9]+'\n",
    "print(re.sub(pattern, 'x', text))"
   ]
  },
  {
   "cell_type": "code",
   "execution_count": 22,
   "id": "5392e1a0",
   "metadata": {},
   "outputs": [
    {
     "name": "stdout",
     "output_type": "stream",
     "text": [
      "\n",
      "xhis is a long text contains the word more than once, xhe point is to find the \"the\" word.\n",
      "xhe text also contains some digits like 123 and 456.\n",
      "\n"
     ]
    }
   ],
   "source": [
    "# All uppercase letters\n",
    "pattern = r'[A-Z]'\n",
    "print(re.sub(pattern, 'x', text))"
   ]
  },
  {
   "cell_type": "code",
   "execution_count": 25,
   "id": "cd1750e3",
   "metadata": {},
   "outputs": [
    {
     "name": "stdout",
     "output_type": "stream",
     "text": [
      "\n",
      "x is a long text contains x word more than once, x point is to find x \"x\" word.\n",
      "x text also contains some digits like 123 and 456.\n",
      "\n"
     ]
    }
   ],
   "source": [
    "# Match on these words\n",
    "pattern = r'This|The|the'\n",
    "print(re.sub(pattern, 'x', text))"
   ]
  },
  {
   "cell_type": "code",
   "execution_count": 27,
   "id": "9a662081",
   "metadata": {},
   "outputs": [
    {
     "name": "stdout",
     "output_type": "stream",
     "text": [
      "123456\n"
     ]
    }
   ],
   "source": [
    "# Match on anything that's NOT a digit\n",
    "pattern = r'[^0-9]'\n",
    "print(re.sub(pattern, '', text))"
   ]
  },
  {
   "cell_type": "code",
   "execution_count": 29,
   "id": "0991515b",
   "metadata": {},
   "outputs": [
    {
     "name": "stdout",
     "output_type": "stream",
     "text": [
      "hisisalongtextcontainsthewordmorethanoncehepointistofindthethewordhetextalsocontainssomedigitslikeand\n"
     ]
    }
   ],
   "source": [
    "# Match on anything that's no a lowercase letter\n",
    "pattern = r'[^a-z]'\n",
    "print(re.sub(pattern, '', text))"
   ]
  },
  {
   "cell_type": "code",
   "execution_count": 30,
   "id": "57a8ec05",
   "metadata": {},
   "outputs": [
    {
     "name": "stdout",
     "output_type": "stream",
     "text": [
      "TTT\n"
     ]
    }
   ],
   "source": [
    "# Match on anything that's no an uppercase letter\n",
    "pattern = r'[^A-Z]'\n",
    "print(re.sub(pattern, '', text))"
   ]
  },
  {
   "cell_type": "code",
   "execution_count": null,
   "id": "74c45a53",
   "metadata": {},
   "outputs": [],
   "source": []
  }
 ],
 "metadata": {
  "kernelspec": {
   "display_name": "myenv",
   "language": "python",
   "name": "python3"
  },
  "language_info": {
   "codemirror_mode": {
    "name": "ipython",
    "version": 3
   },
   "file_extension": ".py",
   "mimetype": "text/x-python",
   "name": "python",
   "nbconvert_exporter": "python",
   "pygments_lexer": "ipython3",
   "version": "3.12.7"
  }
 },
 "nbformat": 4,
 "nbformat_minor": 5
}

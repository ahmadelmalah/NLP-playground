{
 "cells": [
  {
   "cell_type": "code",
   "execution_count": 1,
   "id": "2750b52c",
   "metadata": {},
   "outputs": [],
   "source": [
    "import nltk;"
   ]
  },
  {
   "cell_type": "code",
   "execution_count": 2,
   "id": "3cd73a81",
   "metadata": {},
   "outputs": [
    {
     "name": "stderr",
     "output_type": "stream",
     "text": [
      "[nltk_data] Downloading package punkt to\n",
      "[nltk_data]     /home/ahmadelmalah/nltk_data...\n",
      "[nltk_data]   Package punkt is already up-to-date!\n"
     ]
    },
    {
     "data": {
      "text/plain": [
       "True"
      ]
     },
     "execution_count": 2,
     "metadata": {},
     "output_type": "execute_result"
    }
   ],
   "source": [
    "nltk.download('punkt')"
   ]
  },
  {
   "cell_type": "code",
   "execution_count": null,
   "id": "2babd69a",
   "metadata": {},
   "outputs": [
    {
     "name": "stdout",
     "output_type": "stream",
     "text": [
      "Sentences:\n",
      "Hello, world!\n",
      "This is a test.\n",
      "Let's see how it works.\n"
     ]
    }
   ],
   "source": [
    "# Sentence segmentation\n",
    "text = \"Hello, world! This is a test. Let's see how it works.\"\n",
    "sents = nltk.sent_tokenize(text)\n",
    "print(\"Sentences:\")\n",
    "for sent in sents:\n",
    "    print(sent)"
   ]
  },
  {
   "cell_type": "code",
   "execution_count": 6,
   "id": "27c6a9d9",
   "metadata": {},
   "outputs": [
    {
     "name": "stdout",
     "output_type": "stream",
     "text": [
      "\n",
      "Words:\n",
      "Hello\n",
      ",\n",
      "world\n",
      "!\n",
      "This\n",
      "is\n",
      "a\n",
      "test\n",
      ".\n",
      "Let\n",
      "'s\n",
      "see\n",
      "how\n",
      "it\n",
      "works\n",
      ".\n"
     ]
    }
   ],
   "source": [
    "# Word tokenization\n",
    "words = nltk.word_tokenize(text)\n",
    "print(\"\\nWords:\")\n",
    "for word in words:\n",
    "    print(word)"
   ]
  },
  {
   "cell_type": "code",
   "execution_count": null,
   "id": "687b142f",
   "metadata": {},
   "outputs": [],
   "source": []
  }
 ],
 "metadata": {
  "kernelspec": {
   "display_name": "myenv",
   "language": "python",
   "name": "python3"
  },
  "language_info": {
   "codemirror_mode": {
    "name": "ipython",
    "version": 3
   },
   "file_extension": ".py",
   "mimetype": "text/x-python",
   "name": "python",
   "nbconvert_exporter": "python",
   "pygments_lexer": "ipython3",
   "version": "3.12.7"
  }
 },
 "nbformat": 4,
 "nbformat_minor": 5
}
